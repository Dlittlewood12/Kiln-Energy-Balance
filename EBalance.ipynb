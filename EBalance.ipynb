{
 "cells": [
  {
   "cell_type": "markdown",
   "metadata": {},
   "source": [
    "# Test Kiln Energy Balance\n",
    "\n",
    "### Click on a cell of code and press \"Shift+Enter\" to run that individual cell <br/>\n",
    "### Delete the $#$ below and run the cell once to install required packages if needed"
   ]
  },
  {
   "cell_type": "code",
   "execution_count": 1,
   "metadata": {},
   "outputs": [],
   "source": [
    "#!pip install -r requirements.txt"
   ]
  },
  {
   "cell_type": "markdown",
   "metadata": {},
   "source": [
    "### Run the cell below to initiate widgets\n",
    "\n",
    "$$q_{rad}=\\pi D_o \\Delta x\\sigma \\varepsilon\\left(T_W^4-T_T^4\\right)$$\n",
    "$$q_{conv}=\\pi D_i\\Delta x \\bar{U}\\left(T_T-T_G\\right)$$\n",
    "$$q_{sens}=\\dot{m}C_p\\left(T_G^i-T_G^{i-1}\\right)$$\n"
   ]
  },
  {
   "cell_type": "code",
   "execution_count": 2,
   "metadata": {
    "scrolled": false
   },
   "outputs": [
    {
     "name": "stdout",
     "output_type": "stream",
     "text": [
      "Enter flow specifications below, ensure Σyi=1\n"
     ]
    },
    {
     "data": {
      "application/vnd.jupyter.widget-view+json": {
       "model_id": "4c4efc1d220c48a2a5b1bb19a3df6862",
       "version_major": 2,
       "version_minor": 0
      },
      "text/plain": [
       "interactive(children=(BoundedFloatText(value=2.0, description='L (m)', max=20.0, min=0.1, step=0.1), BoundedFl…"
      ]
     },
     "metadata": {},
     "output_type": "display_data"
    },
    {
     "data": {
      "text/plain": [
       "<function Analysis.Analysis(L, OD, N2, H2, H2O, CO2, CO, m)>"
      ]
     },
     "execution_count": 2,
     "metadata": {},
     "output_type": "execute_result"
    }
   ],
   "source": [
    "\"\"\"\n",
    "Created on Wed Feb 18 2021\n",
    "\n",
    "@author: dlitt\n",
    "\n",
    "Energy Balance on gas heating coil in fuel cell test kiln\n",
    "\n",
    "\"\"\"\n",
    "\n",
    "from Analysis import Analysis\n",
    "import ipywidgets as widgets\n",
    "from ipywidgets import interact\n",
    "\n",
    "N2widget = widgets.BoundedFloatText(value=0.05,min=0,max=1,step=0.1,description='N2 (yi)')\n",
    "H2widget = widgets.BoundedFloatText(value=0.05,min=0,max=1,step=0.1,description='H2 (yi)')\n",
    "H2Owidget = widgets.BoundedFloatText(value=0.9,min=0,max=1,step=0.1,description='H2O (yi)')\n",
    "CO2widget = widgets.BoundedFloatText(value=0,min=0,max=1,step=0.1,description='CO2 (yi)')\n",
    "COwidget = widgets.BoundedFloatText(value=0,min=0,max=1,step=0.1,description='CO (yi)')\n",
    "Lwidget = widgets.BoundedFloatText(value=2,min=0.1,max=20.0,step=0.1,description='L (m)')\n",
    "mwidget = widgets.BoundedFloatText(value=5.995e-5,min=5e-8,max=1.0,step=0.00001,description='m (kg/s)')\n",
    "ODwidget = widgets.BoundedFloatText(value=0.375,min=0.1,max=2,step=0.025,description='OD (in)')\n",
    "print('Enter flow specifications below, ensure Σyi=1')\n",
    "widgets.interact_manual( Analysis, L=Lwidget, OD=ODwidget, N2=N2widget, H2=H2widget, H2O=H2Owidget, CO2=CO2widget, CO=COwidget, m=mwidget)"
   ]
  },
  {
   "cell_type": "code",
   "execution_count": null,
   "metadata": {},
   "outputs": [],
   "source": []
  }
 ],
 "metadata": {
  "kernelspec": {
   "display_name": "Python 3",
   "language": "python",
   "name": "python3"
  },
  "language_info": {
   "codemirror_mode": {
    "name": "ipython",
    "version": 3
   },
   "file_extension": ".py",
   "mimetype": "text/x-python",
   "name": "python",
   "nbconvert_exporter": "python",
   "pygments_lexer": "ipython3",
   "version": "3.8.5"
  }
 },
 "nbformat": 4,
 "nbformat_minor": 2
}
